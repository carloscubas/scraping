{
 "cells": [
  {
   "cell_type": "code",
   "execution_count": 66,
   "metadata": {},
   "outputs": [],
   "source": [
    "import requests\n",
    "from bs4 import BeautifulSoup"
   ]
  },
  {
   "cell_type": "code",
   "execution_count": 67,
   "metadata": {},
   "outputs": [],
   "source": [
    "url = 'https://guiadacozinha.com.br/category/almoco-de-domingo/'\n",
    "page = requests.get(url)\n",
    "recipe = BeautifulSoup(page.text, 'html.parser')"
   ]
  },
  {
   "cell_type": "code",
   "execution_count": 68,
   "metadata": {},
   "outputs": [
    {
     "name": "stdout",
     "output_type": "stream",
     "text": [
      "https://guiadacozinha.com.br/costela-com-mandioca-bacon/\n",
      "https://guiadacozinha.com.br/carne-assada-com-almeirao/\n",
      "https://guiadacozinha.com.br/picanha-com-requeijao-e-alho/\n",
      "https://guiadacozinha.com.br/macarrao-na-pressao-com-carne/\n",
      "https://guiadacozinha.com.br/galinhada-de-pressao/\n",
      "https://guiadacozinha.com.br/fricasse-incrementado/\n",
      "https://guiadacozinha.com.br/macarronada-molho-rose-champignon/\n",
      "https://guiadacozinha.com.br/arroz-caipira-receita/\n",
      "https://guiadacozinha.com.br/lasanha-de-panqueca-bolonhesa/\n",
      "https://guiadacozinha.com.br/fraldinha-grelhada-com-cenoura/\n",
      "https://guiadacozinha.com.br/macarrao-molho-branco-na-pressao/\n",
      "https://guiadacozinha.com.br/baiao-de-dois-na-pressao/\n",
      "https://guiadacozinha.com.br/sobremesas-para-o-dia-das-maes/\n",
      "https://guiadacozinha.com.br/costela-desossada-recheada-queijo/\n",
      "https://guiadacozinha.com.br/polenta-gratinada-com-costela/\n"
     ]
    }
   ],
   "source": [
    "for card in recipe.find_all(\"div\", {'class':'recipe-card'}):\n",
    "\tprint(card.find('a')['href'])"
   ]
  },
  {
   "cell_type": "code",
   "execution_count": null,
   "metadata": {},
   "outputs": [],
   "source": []
  }
 ],
 "metadata": {
  "kernelspec": {
   "display_name": "Python 3",
   "language": "python",
   "name": "python3"
  },
  "language_info": {
   "codemirror_mode": {
    "name": "ipython",
    "version": 3
   },
   "file_extension": ".py",
   "mimetype": "text/x-python",
   "name": "python",
   "nbconvert_exporter": "python",
   "pygments_lexer": "ipython3",
   "version": "3.6.8"
  }
 },
 "nbformat": 4,
 "nbformat_minor": 2
}
