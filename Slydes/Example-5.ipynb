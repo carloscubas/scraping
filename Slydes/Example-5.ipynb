{
 "cells": [
  {
   "cell_type": "code",
   "execution_count": 11,
   "metadata": {},
   "outputs": [],
   "source": [
    "import requests\n",
    "from bs4 import BeautifulSoup"
   ]
  },
  {
   "cell_type": "code",
   "execution_count": 12,
   "metadata": {},
   "outputs": [],
   "source": [
    "url = 'https://guiadacozinha.com.br/pastel-carne-seca-queijo-coalho/'\n",
    "page = requests.get(url)"
   ]
  },
  {
   "cell_type": "code",
   "execution_count": 13,
   "metadata": {},
   "outputs": [],
   "source": [
    "recipe = BeautifulSoup(page.text, 'html.parser')\n",
    "body = recipe.find(\"article\", {'class':'content-body'})"
   ]
  },
  {
   "cell_type": "code",
   "execution_count": 14,
   "metadata": {},
   "outputs": [
    {
     "name": "stdout",
     "output_type": "stream",
     "text": [
      "Título: Pastel de carne-seca com queijo coalho\n"
     ]
    }
   ],
   "source": [
    "print('Título: ' + body.find('h1').text)"
   ]
  },
  {
   "cell_type": "code",
   "execution_count": 15,
   "metadata": {},
   "outputs": [],
   "source": [
    "details = recipe.find(\"div\", {'class':'p402_premium'})"
   ]
  },
  {
   "cell_type": "code",
   "execution_count": 16,
   "metadata": {},
   "outputs": [
    {
     "name": "stdout",
     "output_type": "stream",
     "text": [
      "3 colheres (sopa) de azeite\n",
      "2 dentes de alho picados\n",
      "1 cebola picada\n",
      "2 xícaras (chá) de carne-seca dessalgada, cozida e desfiada\n",
      "Sal, pimenta-do-reino a gosto\n",
      "1 colher (sopa) de cheiro-verde\n",
      "1 xícara (chá) de queijo coalho ralado\n",
      "500 g de massa de pastel média em círculos\n",
      "Óleo para fritar\n"
     ]
    }
   ],
   "source": [
    "for li in details.find('ul').find_all('li'):\n",
    "\tprint(li.text.strip())"
   ]
  },
  {
   "cell_type": "code",
   "execution_count": 17,
   "metadata": {},
   "outputs": [
    {
     "name": "stdout",
     "output_type": "stream",
     "text": [
      "Que tal um delicioso pastel de carne-seca com queijo coalho para a sua festa junina? E essa receita é tão gostosa que vale a pena ser feita o ano todo! Veja:\n",
      "\n",
      "Em uma panela coloque o azeite, o alho, a cebola e leve ao fogo por 5 minutos ou até que comece a dourar.\n",
      "Acrescente a carne desfiada, o sal, a pimenta, a salsa e deixe refogar por 10 minutos, mexendo de vez em quando.\n",
      "Retire do fogo, deixe esfriar e misture o queijo coalho.\n",
      "Abra as massinhas de pastel e coloque o recheio.\n",
      "Dobre ao meio e com um garfo aperte bem as bordas.\n",
      "Frite em óleo quente por 10 minutos ou até que esteja dourado por igual, escorra em papel absorvente e sirva.\n",
      " \n",
      "COLABORAÇÃO: Angela Cardoso\n",
      " \n",
      "LEIA TAMBÉM\n"
     ]
    }
   ],
   "source": [
    "for p in details.find_all('p'):\n",
    "\tprint(p.text)"
   ]
  },
  {
   "cell_type": "code",
   "execution_count": null,
   "metadata": {},
   "outputs": [],
   "source": []
  }
 ],
 "metadata": {
  "kernelspec": {
   "display_name": "Python 3",
   "language": "python",
   "name": "python3"
  },
  "language_info": {
   "codemirror_mode": {
    "name": "ipython",
    "version": 3
   },
   "file_extension": ".py",
   "mimetype": "text/x-python",
   "name": "python",
   "nbconvert_exporter": "python",
   "pygments_lexer": "ipython3",
   "version": "3.6.8"
  }
 },
 "nbformat": 4,
 "nbformat_minor": 2
}
