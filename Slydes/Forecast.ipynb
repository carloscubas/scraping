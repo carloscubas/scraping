{
 "cells": [
  {
   "cell_type": "code",
   "execution_count": 1,
   "metadata": {},
   "outputs": [],
   "source": [
    "import requests\n",
    "import pprint\n",
    "from bs4 import BeautifulSoup"
   ]
  },
  {
   "cell_type": "code",
   "execution_count": 2,
   "metadata": {},
   "outputs": [],
   "source": [
    "url = 'http://forecast.weather.gov/MapClick.php?lat=37.7772&lon=-122.4168'\n",
    "page = requests.get(url)"
   ]
  },
  {
   "cell_type": "code",
   "execution_count": 3,
   "metadata": {},
   "outputs": [],
   "source": [
    "soup = BeautifulSoup(page.text, 'html.parser')\n",
    "seven_day = soup.find(id=\"seven-day-forecast\")\n",
    "forecast_items = seven_day.find_all(class_=\"tombstone-container\")"
   ]
  },
  {
   "cell_type": "code",
   "execution_count": 4,
   "metadata": {},
   "outputs": [
    {
     "name": "stdout",
     "output_type": "stream",
     "text": [
      "ThisAfternoon\n",
      "Sunny\n",
      "High: 65 °F\n",
      "------------\n",
      "Tonight\n",
      "Partly Cloudy\n",
      "Low: 55 °F\n",
      "------------\n",
      "Sunday\n",
      "Mostly Sunny\n",
      "High: 65 °F\n",
      "------------\n",
      "SundayNight\n",
      "IncreasingClouds\n",
      "Low: 55 °F\n",
      "------------\n",
      "Monday\n",
      "Mostly Sunny\n",
      "High: 69 °F\n",
      "------------\n",
      "MondayNight\n",
      "Partly Cloudy\n",
      "Low: 55 °F\n",
      "------------\n",
      "Tuesday\n",
      "Sunny\n",
      "High: 72 °F\n",
      "------------\n",
      "TuesdayNight\n",
      "Clear\n",
      "Low: 56 °F\n",
      "------------\n",
      "Wednesday\n",
      "Sunny\n",
      "High: 71 °F\n",
      "------------\n"
     ]
    }
   ],
   "source": [
    "for forecast_item in seven_day.find_all(class_=\"tombstone-container\"):\n",
    "    period = forecast_item.find(class_=\"period-name\").get_text()\n",
    "    short_desc = forecast_item.find(class_=\"short-desc\").get_text()\n",
    "    temp = forecast_item.find(class_=\"temp\").get_text()\n",
    "\n",
    "    print(period)\n",
    "    print(short_desc)\n",
    "    print(temp)\n",
    "    print(\"------------\")"
   ]
  },
  {
   "cell_type": "code",
   "execution_count": null,
   "metadata": {},
   "outputs": [],
   "source": []
  }
 ],
 "metadata": {
  "kernelspec": {
   "display_name": "Python 3",
   "language": "python",
   "name": "python3"
  },
  "language_info": {
   "codemirror_mode": {
    "name": "ipython",
    "version": 3
   },
   "file_extension": ".py",
   "mimetype": "text/x-python",
   "name": "python",
   "nbconvert_exporter": "python",
   "pygments_lexer": "ipython3",
   "version": "3.6.8"
  }
 },
 "nbformat": 4,
 "nbformat_minor": 2
}
