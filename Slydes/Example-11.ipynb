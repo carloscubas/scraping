{
 "cells": [
  {
   "cell_type": "code",
   "execution_count": 16,
   "metadata": {},
   "outputs": [],
   "source": [
    "import requests\n",
    "from bs4 import BeautifulSoup"
   ]
  },
  {
   "cell_type": "code",
   "execution_count": 17,
   "metadata": {},
   "outputs": [],
   "source": [
    "url = 'https://www.infomoney.com.br/cryptos/cotacoes'\n",
    "res = requests.get(url)\n",
    "soup = BeautifulSoup(res.text, 'html.parser')"
   ]
  },
  {
   "cell_type": "code",
   "execution_count": 18,
   "metadata": {},
   "outputs": [
    {
     "name": "stdout",
     "output_type": "stream",
     "text": [
      "<bound method Tag.prettify of <tbody>\n",
      "<tr ng-repeat=\"item in cryptos | orderBy:sortType:sortReverse | filter:searchCrypto\">\n",
      "<td class=\"text-center priority-2\">{{item.Position}}</td>\n",
      "<td class=\"priority-1\"><img alt=\"{{item.FullName}}\" ng-hide=\"{{item.ImageUrl == ''}}\" ng-src=\"{{item.ImageUrl + '?width=25'}}\"/> {{item.FullName}}</td>\n",
      "<td class=\"text-right priority-3\">{{item.MarketCap == 0 ? '-' : item.MarketCap | currency :\"R$ \": 0}}</td>\n",
      "<td class=\"text-right priority-1\">{{item.PriceBRL == 0 ? '-' : item.PriceBRL | currency:\"R$ \" }}</td>\n",
      "<td class=\"text-right priority-4\"> BTC {{item.PriceBTC == 0 ? '0' : item.PriceBTC | decimalFilter }}</td>\n",
      "<td class=\"text-right priority-4\">{{item.TotalVolume24H == 0 ? '-' : item.TotalVolume24H | currency:\"R$ \": 0 }}</td>\n",
      "<td class=\"text-right priority-1\"><span ng-class=\"{'negativo': item.ChangePct24H &lt;= 0,'positivo': item.ChangePct24H &gt; 0 ,'neutro': item.ChangePct24H == 0 }\">{{item.ChangePct24H | number :2}} %</span></td>\n",
      "</tr>\n",
      "</tbody>>\n"
     ]
    }
   ],
   "source": [
    "table = soup.find('table', attrs={'class':'display border-t-brown-3'})\n",
    "print (table.find('tbody').prettify)"
   ]
  },
  {
   "cell_type": "code",
   "execution_count": null,
   "metadata": {},
   "outputs": [],
   "source": []
  }
 ],
 "metadata": {
  "kernelspec": {
   "display_name": "Python 3",
   "language": "python",
   "name": "python3"
  },
  "language_info": {
   "codemirror_mode": {
    "name": "ipython",
    "version": 3
   },
   "file_extension": ".py",
   "mimetype": "text/x-python",
   "name": "python",
   "nbconvert_exporter": "python",
   "pygments_lexer": "ipython3",
   "version": "3.6.8"
  }
 },
 "nbformat": 4,
 "nbformat_minor": 2
}
