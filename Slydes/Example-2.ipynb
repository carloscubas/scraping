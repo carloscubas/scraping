{
 "cells": [
  {
   "cell_type": "code",
   "execution_count": 5,
   "metadata": {},
   "outputs": [],
   "source": [
    "import webbrowser\n",
    "from bs4 import BeautifulSoup\n",
    "import requests"
   ]
  },
  {
   "cell_type": "code",
   "execution_count": 6,
   "metadata": {},
   "outputs": [
    {
     "name": "stdout",
     "output_type": "stream",
     "text": [
      "Googling...\n"
     ]
    }
   ],
   "source": [
    "print('Googling...')\n",
    "res = requests.get('http://google.com/search?q=' + 'carnaval brazil')\n",
    "res.raise_for_status()"
   ]
  },
  {
   "cell_type": "code",
   "execution_count": 7,
   "metadata": {},
   "outputs": [],
   "source": [
    "soup = BeautifulSoup(res.text, 'html.parser')"
   ]
  },
  {
   "cell_type": "code",
   "execution_count": 8,
   "metadata": {},
   "outputs": [
    {
     "name": "stdout",
     "output_type": "stream",
     "text": [
      "/?sa=X&ved=0ahUKEwjxpLXW9sjiAhWrFLkGHf1ADJsQOwgC\n",
      "/?output=search&ie=UTF-8&sa=X&ved=0ahUKEwjxpLXW9sjiAhWrFLkGHf1ADJsQPAgE\n",
      "/search?q=carnaval+brazil&ie=UTF-8&gbv=1&sei=zsXyXPGFK6up5OUP_YGx2Ak\n",
      "/search?q=carnaval+brazil&ie=UTF-8&source=lnms&tbm=isch&sa=X&ved=0ahUKEwjxpLXW9sjiAhWrFLkGHf1ADJsQ_AUICCgB\n",
      "/search?q=carnaval+brazil&ie=UTF-8&source=lnms&tbm=vid&sa=X&ved=0ahUKEwjxpLXW9sjiAhWrFLkGHf1ADJsQ_AUICSgC\n",
      "/search?q=carnaval+brazil&ie=UTF-8&source=lnms&tbm=nws&sa=X&ved=0ahUKEwjxpLXW9sjiAhWrFLkGHf1ADJsQ_AUICigD\n",
      "http://maps.google.com/maps?q=carnaval+brazil&um=1&ie=UTF-8&sa=X&ved=0ahUKEwjxpLXW9sjiAhWrFLkGHf1ADJsQ_AUICygE\n",
      "/search?q=carnaval+brazil&ie=UTF-8&source=lnms&tbm=shop&sa=X&ved=0ahUKEwjxpLXW9sjiAhWrFLkGHf1ADJsQ_AUIDCgF\n",
      "/search?q=carnaval+brazil&ie=UTF-8&source=lnms&tbm=bks&sa=X&ved=0ahUKEwjxpLXW9sjiAhWrFLkGHf1ADJsQ_AUIDSgG\n",
      "/advanced_search\n",
      "/search?q=carnaval+brazil&ie=UTF-8&source=lnt&tbs=lr:lang_1pt&lr=lang_pt&sa=X&ved=0ahUKEwjxpLXW9sjiAhWrFLkGHf1ADJsQpwUIDw\n",
      "/search?q=carnaval+brazil&ie=UTF-8&source=lnt&tbs=qdr:h&sa=X&ved=0ahUKEwjxpLXW9sjiAhWrFLkGHf1ADJsQpwUIEQ\n",
      "/search?q=carnaval+brazil&ie=UTF-8&source=lnt&tbs=qdr:d&sa=X&ved=0ahUKEwjxpLXW9sjiAhWrFLkGHf1ADJsQpwUIEg\n",
      "/search?q=carnaval+brazil&ie=UTF-8&source=lnt&tbs=qdr:w&sa=X&ved=0ahUKEwjxpLXW9sjiAhWrFLkGHf1ADJsQpwUIEw\n",
      "/search?q=carnaval+brazil&ie=UTF-8&source=lnt&tbs=qdr:m&sa=X&ved=0ahUKEwjxpLXW9sjiAhWrFLkGHf1ADJsQpwUIFA\n",
      "/search?q=carnaval+brazil&ie=UTF-8&source=lnt&tbs=qdr:y&sa=X&ved=0ahUKEwjxpLXW9sjiAhWrFLkGHf1ADJsQpwUIFQ\n",
      "/search?q=carnaval+brazil&ie=UTF-8&source=lnt&tbs=li:1&sa=X&ved=0ahUKEwjxpLXW9sjiAhWrFLkGHf1ADJsQpwUIFw\n",
      "/search?q=carnaval+brazil&ie=UTF-8&lr=lang_pt-BR&sa=X&ved=2ahUKEwjxpLXW9sjiAhWrFLkGHf1ADJsQuAF6BAgAEAE\n",
      "/url?q=http://www.google.com/preferences%3Fhl%3Dpt-BR&sa=U&ved=2ahUKEwjxpLXW9sjiAhWrFLkGHf1ADJsQtwF6BAgAEAI&usg=AOvVaw0zmHypDnskQs9mFDt1q8ES\n",
      "/url?q=https://pt.wikipedia.org/wiki/Carnaval_do_Brasil&sa=U&ved=2ahUKEwjxpLXW9sjiAhWrFLkGHf1ADJsQwW4wAHoECAsQAg&usg=AOvVaw1L-XeJwNKkKrrAuthOgJ_A\n",
      "/url?q=https://pt.wikipedia.org/wiki/Carnaval_do_Brasil&sa=U&ved=2ahUKEwjxpLXW9sjiAhWrFLkGHf1ADJsQmhMwAnoECAsQBw&usg=AOvVaw2x1XND_-GBxP1ErHNynb2E\n",
      "/search?ie=UTF-8&q=carnaval+do+brasil+festa+cultural&stick=H4sIAAAAAAAAAOPgE-LUz9U3MEmusLBQ4tVP1zc0TKqsSikorCrUUstOttLPLojPKddPKopPSy0uySxLzLEqqSxIjc9PgwssYlVMTizKSwQyFVLyFZKKEoszcxRAsokKyaU5JaVFiTkAg0XPBmgAAAA&sa=X&ved=2ahUKEwjxpLXW9sjiAhWrFLkGHf1ADJsQmxMwBXoECAsQCg\n",
      "/search?ie=UTF-8&q=carnaval+do+brasil+celebra%C3%A7%C3%A3o+religiosa&stick=H4sIAAAAAAAAAOPgE-LUz9U3MEmusLBQ4tVP1zc0TKqsMs_ItjDUUstOttLPLojPKddPKopPSy0uySxLzLEqqSxIjc9PgwssYtVMTizKSwQyFVLyFZKKEoszcxSSU3NSgczDyw8vzlcoSs3JTM_ML04EAEV1s0VwAAAA&sa=X&ved=2ahUKEwjxpLXW9sjiAhWrFLkGHf1ADJsQmxMwBXoECAsQCw\n",
      "/search?ie=UTF-8&q=carnaval+do+brasil+catolicismo&stick=H4sIAAAAAAAAAOPgE-LUz9U3MEmusLBQAjOTLcorCrS0spOt9LML4nPK9ZOK4tNSi0syyxJzrNJSE0tKi1JT4jPz4otSczLTM_PzFrHKJScW5SUC5RVS8hWSihKLM3MUkhNL8nMykzOLc_MBFb-sjWUAAAA&sa=X&ved=2ahUKEwjxpLXW9sjiAhWrFLkGHf1ADJsQmxMwBnoECAsQDQ\n",
      "/search?ie=UTF-8&q=carnaval+do+brasil+samb%C3%B3dromo+da+marqu%C3%AAs+de+sapuca%C3%AD&stick=H4sIAAAAAAAAAONgFuLUz9U3MEmusLBQAjOTCsoLC7TUspOt9EuKEstSc_RL8kuLMotL4hNLgALJJZn5eVbFmSmp5YmVxYtYzZITi_ISyxJzFFLyFZKKEoszcxSKE3OTDm9OKcrPzVdISVTITSwqLD28qlghJRUoVVCanHh4LQDfW1JceQAAAA&sa=X&ved=2ahUKEwjxpLXW9sjiAhWrFLkGHf1ADJsQ0I4BMAd6BAgLEBA\n",
      "/search?ie=UTF-8&q=carnaval+do+brasil+carnaval+de+salvador&stick=H4sIAAAAAAAAAONgFuLUz9U3MEmusLBQAjMzjCpzK7TUspOt9EuKEstSc_RL8kuLMotL4hNLgALJJZn5eVbFmSmp5YmVxYtY1ZMTi_ISyxJzFFLyFZKKEoszcxQQQqkKxYk5ZYkp-UUATpGcyGoAAAA&sa=X&ved=2ahUKEwjxpLXW9sjiAhWrFLkGHf1ADJsQ0I4BMAd6BAgLEBI\n",
      "/search?ie=UTF-8&q=carnaval+do+brasil+carnaval+de+s%C3%A3o+paulo&stick=H4sIAAAAAAAAAONgFuLUz9U3MEmusLBQ4tZP1zc0Mkw3iC820VLLTrbSLylKLEvN0S_JLy3KLC6JTywBCiSXZObnWRVnpqSWJ1YWL2LVTE4sykssS8xRSMlXSCpKLM7MUUAIpSoUH16cr1CQWJqTDwAF6pUNbgAAAA&sa=X&ved=2ahUKEwjxpLXW9sjiAhWrFLkGHf1ADJsQ0I4BMAd6BAgLEBQ\n",
      "/search?ie=UTF-8&q=carnaval+do+brasil+carnaval+de+veneza&stick=H4sIAAAAAAAAAONgFuLUz9U3MEmusLBQAjMti6rSq7TUspOt9EuKEstSc_RL8kuLMotL4hNLgALJJZn5eVbFmSmp5YmVxYtYVZMTi_ISyxJzFFLyFZKKEoszcxQQQqkKZal5qVWJACsntR5oAAAA&sa=X&ved=2ahUKEwjxpLXW9sjiAhWrFLkGHf1ADJsQ0I4BMAd6BAgLEBY\n",
      "/search?ie=UTF-8&q=carnaval+do+brasil+samb%C3%B3dromo+do+anhembi&stick=H4sIAAAAAAAAAONgFuLUz9U3MEmusLBQ4gIxzYvNzI0KtdSyk630S4oSy1Jz9EvyS4syi0viE0uAAsklmfl5VsWZKanliZXFi1g1kxOL8hLLEnMUUvIVkooSizNzFIoTc5MOb04pys_NB4km5mWk5iZlAgAAK3UtbQAAAA&sa=X&ved=2ahUKEwjxpLXW9sjiAhWrFLkGHf1ADJsQ0I4BMAd6BAgLEBg\n",
      "/search?ie=UTF-8&q=carnaval+do+brasil+carnaval+de+nova+orleans&stick=H4sIAAAAAAAAAONgFuLUz9U3MEmusLBQAjONUozizbXUspOt9EuKEstSc_RL8kuLMotL4hNLgALJJZn5eVbFmSmp5YmVxYtYtZMTi_ISyxJzFFLyFZKKEoszcxQQQqkKeflliQr5RTmpiXnFABjA4g5uAAAA&sa=X&ved=2ahUKEwjxpLXW9sjiAhWrFLkGHf1ADJsQ0I4BMAd6BAgLEBo\n",
      "http://www.google.com/search?ie=UTF-8&ei=zsXyXPGFK6up5OUP_YGx2Ak&q=carnaval+brazil&tbm=isch&sa=X&ved=2ahUKEwjxpLXW9sjiAhWrFLkGHf1ADJsQsAR6BAgKEAE\n",
      "/url?q=https://www.youtube.com/watch%3Fv%3D1zJidwufyM8&sa=U&ved=2ahUKEwjxpLXW9sjiAhWrFLkGHf1ADJsQwW4wCHoECAoQAw&usg=AOvVaw2P-fWbff09fC1ZO1EPCby7\n",
      "/url?q=http://time.com/4209973/carnival-brazil-rio-de-jeneiro/&sa=U&ved=2ahUKEwjxpLXW9sjiAhWrFLkGHf1ADJsQwW4wCXoECAoQBQ&usg=AOvVaw2HYTmRn19MHvJ2GMgdOvyS\n",
      "/url?q=https://www.theatlantic.com/photo/2019/03/brazil-carnival-2019-photos/584050/&sa=U&ved=2ahUKEwjxpLXW9sjiAhWrFLkGHf1ADJsQwW4wCnoECAoQBw&usg=AOvVaw2_uUJZMEnvyeKFVyv8akBx\n",
      "/url?q=https://en.wikipedia.org/wiki/Brazilian_Carnival&sa=U&ved=2ahUKEwjxpLXW9sjiAhWrFLkGHf1ADJsQwW4wC3oECAoQCQ&usg=AOvVaw2xbGrCC5bvd4qOTM47p3Rl\n",
      "http://www.google.com/search?ie=UTF-8&ei=zsXyXPGFK6up5OUP_YGx2Ak&q=carnaval+brazil&tbm=isch&sa=X&ved=2ahUKEwjxpLXW9sjiAhWrFLkGHf1ADJsQ7Al6BAgKEAo\n",
      "/url?q=https://pt.wikipedia.org/wiki/Carnaval_do_Brasil&sa=U&ved=2ahUKEwjxpLXW9sjiAhWrFLkGHf1ADJsQFjAMegQIBxAB&usg=AOvVaw1sGcH3jNWqxrhFwZ2gDMsV\n",
      "/url?q=https://en.wikipedia.org/wiki/Brazilian_Carnival&sa=U&ved=2ahUKEwjxpLXW9sjiAhWrFLkGHf1ADJsQFjANegQIBRAB&usg=AOvVaw2tBL5PCYDlVVN9VvNW8usp\n",
      "/url?q=https://www.youtube.com/watch%3Fv%3DYCKAPfQC7Ek&sa=U&ved=2ahUKEwjxpLXW9sjiAhWrFLkGHf1ADJsQtwIwDnoECAkQAQ&usg=AOvVaw3xAIhrahYYOnYP0_A_SCxP\n",
      "/url?q=https://www.youtube.com/watch%3Fv%3DYCKAPfQC7Ek&sa=U&ved=2ahUKEwjxpLXW9sjiAhWrFLkGHf1ADJsQuAIwDnoECAkQAg&usg=AOvVaw2_-wmlVK7-GXF5rNTEBr4O\n",
      "/url?q=https://traveltips.usatoday.com/carnival-brazil-100582.html&sa=U&ved=2ahUKEwjxpLXW9sjiAhWrFLkGHf1ADJsQFjAPegQIBhAB&usg=AOvVaw2UQ9XUruQyuYFZCNcefp-k\n",
      "/url?q=https://www.calendarlabs.com/holidays/brazil/carnival.php&sa=U&ved=2ahUKEwjxpLXW9sjiAhWrFLkGHf1ADJsQFjAQegQIBBAB&usg=AOvVaw1_5cXz7dmohvZojBJH5FWU\n",
      "/url?q=https://theculturetrip.com/south-america/brazil/articles/how-did-brazils-carnival-start/&sa=U&ved=2ahUKEwjxpLXW9sjiAhWrFLkGHf1ADJsQFjARegQICBAB&usg=AOvVaw03r8h3Ad1IPzTcG5uLkWtl\n",
      "/url?q=http://www.aboutbrasil.com/modules/brazil-brasil/carnival_carnaval.php%3Fhoofd%3D8%26sub%3D44%26art%3D475&sa=U&ved=2ahUKEwjxpLXW9sjiAhWrFLkGHf1ADJsQFjASegQIARAB&usg=AOvVaw3pd5Bw971fYUin1QurD1Y3\n",
      "/url?q=https://www.riocarnaval.org/&sa=U&ved=2ahUKEwjxpLXW9sjiAhWrFLkGHf1ADJsQFjATegQIAhAB&usg=AOvVaw2CJ2Ptx1_Z6axX_kZ7LKdn\n",
      "/url?q=https://www.riocarnaval.org/en-US/&sa=U&ved=2ahUKEwjxpLXW9sjiAhWrFLkGHf1ADJsQFjAUegQIAxAB&usg=AOvVaw2g8C9LN_nvaomFd-FSulbw\n",
      "/search?q=carnaval+brazil&ie=UTF-8&ei=zsXyXPGFK6up5OUP_YGx2Ak&start=10&sa=N\n",
      "/url?q=https://accounts.google.com/ServiceLogin%3Fcontinue%3Dhttp://www.google.com/search%253Fq%253Dcarnaval%252Bbrazil%26hl%3Dpt-BR&sa=U&ved=0ahUKEwjxpLXW9sjiAhWrFLkGHf1ADJsQxs8CCF8&usg=AOvVaw13nk1FnrKUYMwZRGTM2jEf\n",
      "http://www.google.com/preferences?hl=pt-BR&fg=1&sa=X&ved=0ahUKEwjxpLXW9sjiAhWrFLkGHf1ADJsQ5fUCCGA\n",
      "//www.google.com/intl/pt-BR_br/policies/privacy/?fg=1\n",
      "//www.google.com/intl/pt-BR_br/policies/terms/?fg=1\n"
     ]
    }
   ],
   "source": [
    "linkElems = soup.find_all('a')\n",
    "for i in range(len(linkElems)):\n",
    "    print(linkElems[i].get('href'))"
   ]
  },
  {
   "cell_type": "code",
   "execution_count": 9,
   "metadata": {},
   "outputs": [],
   "source": [
    "numOpen = min(5, len(linkElems))\n",
    "for i in range(numOpen):\n",
    "\twebbrowser.open('http://google.com' + linkElems[i].get('href'))"
   ]
  },
  {
   "cell_type": "code",
   "execution_count": null,
   "metadata": {},
   "outputs": [],
   "source": []
  }
 ],
 "metadata": {
  "kernelspec": {
   "display_name": "Python 3",
   "language": "python",
   "name": "python3"
  },
  "language_info": {
   "codemirror_mode": {
    "name": "ipython",
    "version": 3
   },
   "file_extension": ".py",
   "mimetype": "text/x-python",
   "name": "python",
   "nbconvert_exporter": "python",
   "pygments_lexer": "ipython3",
   "version": "3.6.8"
  }
 },
 "nbformat": 4,
 "nbformat_minor": 2
}
