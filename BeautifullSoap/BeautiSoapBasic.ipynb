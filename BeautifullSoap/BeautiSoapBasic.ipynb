{
 "cells": [
  {
   "cell_type": "code",
   "execution_count": 4,
   "metadata": {},
   "outputs": [],
   "source": [
    "from bs4 import BeautifulSoup"
   ]
  },
  {
   "cell_type": "code",
   "execution_count": 7,
   "metadata": {},
   "outputs": [
    {
     "name": "stdout",
     "output_type": "stream",
     "text": [
      "<html>\n",
      " <head>\n",
      "  <title>\n",
      "   Page title\n",
      "  </title>\n",
      " </head>\n",
      " <body>\n",
      "  <p align=\"center\" id=\"firstpara\">\n",
      "   This is paragraph\n",
      "   <b>\n",
      "    one\n",
      "   </b>\n",
      "   .\n",
      "   <p align=\"blah\" id=\"secondpara\">\n",
      "    This is paragraph\n",
      "    <b>\n",
      "     two\n",
      "    </b>\n",
      "    .\n",
      "   </p>\n",
      "  </p>\n",
      " </body>\n",
      "</html>\n"
     ]
    }
   ],
   "source": [
    "doc = ['<html><head><title>Page title</title></head>',\n",
    "       '<body><p id=\"firstpara\" align=\"center\">This is paragraph <b>one</b>.',\n",
    "       '<p id=\"secondpara\" align=\"blah\">This is paragraph <b>two</b>.',\n",
    "       '</html>']\n",
    "soup = BeautifulSoup(''.join(doc), 'html.parser')\n",
    "print(soup.prettify())"
   ]
  },
  {
   "cell_type": "code",
   "execution_count": 8,
   "metadata": {},
   "outputs": [
    {
     "name": "stdout",
     "output_type": "stream",
     "text": [
      "<title>Page title</title>\n"
     ]
    }
   ],
   "source": [
    "print(soup.html.head.title)"
   ]
  },
  {
   "cell_type": "code",
   "execution_count": 10,
   "metadata": {},
   "outputs": [
    {
     "name": "stdout",
     "output_type": "stream",
     "text": [
      "Page title\n"
     ]
    }
   ],
   "source": [
    "print(soup.find(\"title\").text.strip())"
   ]
  },
  {
   "cell_type": "code",
   "execution_count": 11,
   "metadata": {},
   "outputs": [
    {
     "data": {
      "text/plain": [
       "2"
      ]
     },
     "execution_count": 11,
     "metadata": {},
     "output_type": "execute_result"
    }
   ],
   "source": [
    "len(soup('p'))"
   ]
  },
  {
   "cell_type": "code",
   "execution_count": null,
   "metadata": {},
   "outputs": [],
   "source": []
  }
 ],
 "metadata": {
  "kernelspec": {
   "display_name": "Python 3",
   "language": "python",
   "name": "python3"
  },
  "language_info": {
   "codemirror_mode": {
    "name": "ipython",
    "version": 3
   },
   "file_extension": ".py",
   "mimetype": "text/x-python",
   "name": "python",
   "nbconvert_exporter": "python",
   "pygments_lexer": "ipython3",
   "version": "3.6.4"
  }
 },
 "nbformat": 4,
 "nbformat_minor": 2
}
