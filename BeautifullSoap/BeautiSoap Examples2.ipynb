{
 "cells": [
  {
   "cell_type": "code",
   "execution_count": 1,
   "metadata": {},
   "outputs": [],
   "source": [
    "import requests\n",
    "import pprint\n",
    "from bs4 import BeautifulSoup\n",
    "import re\n",
    "import logging\n",
    "import json\n",
    "from time import sleep"
   ]
  },
  {
   "cell_type": "code",
   "execution_count": 18,
   "metadata": {},
   "outputs": [
    {
     "name": "stdout",
     "output_type": "stream",
     "text": [
      "Yellow lanÃ§a compartilhamento de bicicletas elÃ©tricas em SÃ£o Paulo\n",
      "Entrou em operaÃ§Ã£o em SÃ£o Paulo, nesta segunda-feira (11), o primeiro serviÃ§o de compartilhamento de bicicletas elÃ©tricas da cidade, oferecido pela Yellow â empresa que tem operado desde agosto de 2018 na metrÃ³pole com bicicletas tradicionais e conta tambÃ©m com patinetes elÃ©tricos.\n",
      "Em comunicado enviado ao Gizmodo Brasil, Ariel Lambrecht, um dos fundadores da Yellow, afirma que a Ã¡rea de atuaÃ§Ã£o inicial em SÃ£o Paulo serÃ¡ a mesma jÃ¡ utilizada pelos patinetes elÃ©tricos, nas zonas sul e oeste, incluindo locais como as avenidas Paulista e Faria Lima.\n",
      "window.uolads.push({ id: \"banner-300x250-area\" });\n",
      "O preÃ§o inicial da operaÃ§Ã£o Ã© de R$ 5,00 para o desbloqueio do veÃ­culo e mais R$ 0,40 para cada minuto de uso. Dez minutos da brincadeira, portanto, sairiam por R$ 9,00, por exemplo.\n",
      "Segundo o comunicado, as bicicletas elÃ©tricas podem ser usadas entre as 8h e as 21h, disponÃ­veis em pontos privados parceiros. A empresa afirma que as bikes estarÃ£o todas as manhÃ£s presentes nesses locais, mas que os usuÃ¡rios podem encerrar sua corrida tambÃ©m em qualquer local da Ã¡rea de atendimento, contanto que esteja onde Ã© permitido o estacionamento de bicicletas. No fim de cada dia, a Yellow coleta as bicicletas, as recarrega e faz a manutenÃ§Ã£o e a limpeza.\n",
      "\n",
      "Ãrea contemplada pelas bicicletas elÃ©tricas da Yellow. Foto: DivulgaÃ§Ã£o\n",
      "window.uolads.push({ id: \"banner-300x250-2-area\" });\n",
      "VocÃª pode pagar pelas corridas com as bikes elÃ©tricas usando cartÃ£o de crÃ©dito ou dinheiro. Ã possÃ­vel tambÃ©m comprar, em dinheiro, crÃ©dito para utilizar as bicicletas, disponÃ­vel em lojas, bancas de jornal e estabelecimentos parceiros na cidade, como lanchonetes. O valor comprado entÃ£o Ã© enviado para o app do usuÃ¡rio.\n",
      "As bicicletas elÃ©tricas da Yellow atingem velocidade mÃ¡xima de 25 km/h, contam com campainha, sinalizaÃ§Ã£o noturna e espelhos retrovisores. Elas nÃ£o tÃªm acelerador, mas vÃªm com pedal assistido e um sensor que ativa o auxÃ­lio do motor ao detectar as pedaladas, deixando o pedal mais leve e aumentando a velocidade.\n",
      "Considerando o sucesso dos patinetes elÃ©tricos em grandes vias, Ã© de se imaginar que as bicicletas tenham adesÃ£o no mÃ­nimo parecida.\n",
      "window.uolads.push({ id: \"banner-300x250-3-area\" });\n"
     ]
    }
   ],
   "source": [
    "url = 'https://gizmodo.uol.com.br/yellow-bicicletas-eletricas-sao-paulo/'\n",
    "page = requests.get(url)\n",
    "content = BeautifulSoup(page.text, 'html.parser')\n",
    "body = content.find(\"article\", {'class':'postSingle'})\n",
    "print(body.find('h1').text.strip())\n",
    "\n",
    "text = body.find(\"div\",{'class':'postContent'})\n",
    "for p in text.find_all('p'):\n",
    "    print(p.text.strip())\n"
   ]
  },
  {
   "cell_type": "code",
   "execution_count": null,
   "metadata": {},
   "outputs": [],
   "source": []
  }
 ],
 "metadata": {
  "kernelspec": {
   "display_name": "Python 3",
   "language": "python",
   "name": "python3"
  },
  "language_info": {
   "codemirror_mode": {
    "name": "ipython",
    "version": 3
   },
   "file_extension": ".py",
   "mimetype": "text/x-python",
   "name": "python",
   "nbconvert_exporter": "python",
   "pygments_lexer": "ipython3",
   "version": "3.6.4"
  }
 },
 "nbformat": 4,
 "nbformat_minor": 2
}
