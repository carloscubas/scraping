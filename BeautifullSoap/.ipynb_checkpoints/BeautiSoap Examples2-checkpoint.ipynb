{
 "cells": [
  {
   "cell_type": "code",
   "execution_count": 1,
   "metadata": {},
   "outputs": [],
   "source": [
    "import requests\n",
    "import pprint\n",
    "from bs4 import BeautifulSoup\n",
    "import re\n",
    "import logging\n",
    "import json\n",
    "from time import sleep"
   ]
  },
  {
   "cell_type": "code",
   "execution_count": 17,
   "metadata": {},
   "outputs": [
    {
     "name": "stdout",
     "output_type": "stream",
     "text": [
      "Yellow lanÃ§a compartilhamento de bicicletas elÃ©tricas em SÃ£o Paulo\n"
     ]
    }
   ],
   "source": [
    "url = 'https://gizmodo.uol.com.br/yellow-bicicletas-eletricas-sao-paulo/'\n",
    "page = requests.get(url)\n",
    "content = BeautifulSoup(page.text, 'html.parser')\n",
    "body = content.find(\"article\", {'class':'postSingle'})\n",
    "print(body.find('h1').text.strip())\n",
    "\n",
    "text = body.find(\"div\",{'class':'postContent'})\n",
    "for p in text.find_all('p'):\n",
    "    print(p.text.strip())\n"
   ]
  },
  {
   "cell_type": "code",
   "execution_count": null,
   "metadata": {},
   "outputs": [],
   "source": []
  }
 ],
 "metadata": {
  "kernelspec": {
   "display_name": "Python 3",
   "language": "python",
   "name": "python3"
  },
  "language_info": {
   "codemirror_mode": {
    "name": "ipython",
    "version": 3
   },
   "file_extension": ".py",
   "mimetype": "text/x-python",
   "name": "python",
   "nbconvert_exporter": "python",
   "pygments_lexer": "ipython3",
   "version": "3.6.4"
  }
 },
 "nbformat": 4,
 "nbformat_minor": 2
}
