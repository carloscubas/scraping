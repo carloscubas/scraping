{
 "cells": [
  {
   "cell_type": "code",
   "execution_count": 3,
   "metadata": {},
   "outputs": [],
   "source": [
    "import requests\n",
    "import pprint\n",
    "from bs4 import BeautifulSoup\n",
    "import re\n",
    "import logging\n",
    "import json\n",
    "from time import sleep"
   ]
  },
  {
   "cell_type": "code",
   "execution_count": 24,
   "metadata": {},
   "outputs": [],
   "source": [
    "url = 'https://guiadacozinha.com.br/torta-de-batata-e-estrogonofe/'\n",
    "page = requests.get(url)\n",
    "recipe = BeautifulSoup(page.text, 'html.parser')\n",
    "body = recipe.find(\"article\", {'class':'content-body'})\n"
   ]
  },
  {
   "cell_type": "code",
   "execution_count": 41,
   "metadata": {},
   "outputs": [
    {
     "name": "stdout",
     "output_type": "stream",
     "text": [
      "Título: Torta de batata e estrogonofe\n",
      "800g de batata cozida e amassada\n",
      "2 ovos\n",
      "2 colheres (sopa) de maisena\n",
      "2 colheres (sopa) de margarina\n",
      "Sal a gosto\n",
      "Óleo para untar\n",
      "100g de queijo parmesão ralado\n",
      "Esta receita de torta de batata e estrogonofe, além de ficar uma delícia, é uma opção que, sem dúvida, vai agradar e surpreender a toda sua família no almoço do final de semana! Confira a receita completa abaixo e experimente em sua casa junto com a família, todos vão adorar!\n",
      "Tempo: 50min\n",
      "Rendimento: 6 porções\n",
      "Dificuldade: fácil\n",
      "Aqueça uma panela com o óleo, em fogo médio, e frite o frango temperado com sal e pimenta até dourar levemente.\n",
      "Adicione a cebola e refogue rapidamente. Acrescente o conhaque, o molho inglês, a mostarda e refogue por 2 minutos.\n",
      "Junte o molho e cozinhe por 5 minutos, mexendo de vez em quando. Adicione o champignon, o creme de leite, acerte o sal e misture.\n",
      "Desligue o fogo e reserve.\n",
      "Em uma tigela, misture os ingredientes da massa até ficar homogêneo e espalhe no fundo de um refratário médio untado.\n",
      "Cubra com o estrogonofe e polvilhe com o parmesão. Leve ao forno médio, preaquecido, por 20 minutos ou até gratinar.\n",
      "Retire e sirva em seguida.\n",
      "COLABORAÇÃO: Fernando Santos\n",
      " \n",
      "LEIA MAIS\n"
     ]
    }
   ],
   "source": [
    "print('Título: ' + body.find('h1').text)\n",
    "\n",
    "details = recipe.find(\"div\", {'class':'p402_premium'})\n",
    "\n",
    "for li in details.find('ul').find_all('li'):\n",
    "    print(li.text.strip())\n",
    "\n",
    "for p in details.find_all('p'):\n",
    "    print(p.text)"
   ]
  },
  {
   "cell_type": "code",
   "execution_count": null,
   "metadata": {},
   "outputs": [],
   "source": []
  }
 ],
 "metadata": {
  "kernelspec": {
   "display_name": "Python 3",
   "language": "python",
   "name": "python3"
  },
  "language_info": {
   "codemirror_mode": {
    "name": "ipython",
    "version": 3
   },
   "file_extension": ".py",
   "mimetype": "text/x-python",
   "name": "python",
   "nbconvert_exporter": "python",
   "pygments_lexer": "ipython3",
   "version": "3.6.4"
  }
 },
 "nbformat": 4,
 "nbformat_minor": 2
}
